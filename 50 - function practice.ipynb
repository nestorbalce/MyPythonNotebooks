{
 "cells": [
  {
   "cell_type": "code",
   "execution_count": 17,
   "id": "e15c3843",
   "metadata": {},
   "outputs": [],
   "source": [
    "#LESSER OF TWO EVENS: Write a function that returns the lesser of two given numbers if both numbers are even, \n",
    "#    but returns the greater if one or both numbers are odd\n",
    "#lesser_of_two_evens(2,4) --> 2\n",
    "#lesser_of_two_evens(2,5) --> 5"
   ]
  },
  {
   "cell_type": "code",
   "execution_count": 24,
   "id": "9b9794d2",
   "metadata": {},
   "outputs": [],
   "source": [
    "def lesser_of_two_evens(a,b):\n",
    "    \n",
    "    if a %2 ==0 and b %2 ==0:\n",
    "        #both are even\n",
    "        if a < b: \n",
    "            return a\n",
    "        else:\n",
    "            return b\n",
    "    else:\n",
    "        #one or both numbers are odd\n",
    "        if a > b:\n",
    "            return a\n",
    "        else:\n",
    "            return b"
   ]
  },
  {
   "cell_type": "code",
   "execution_count": 25,
   "id": "1b0e29d9",
   "metadata": {},
   "outputs": [
    {
     "data": {
      "text/plain": [
       "2"
      ]
     },
     "execution_count": 25,
     "metadata": {},
     "output_type": "execute_result"
    }
   ],
   "source": [
    "lesser_of_two_evens (2,4)"
   ]
  },
  {
   "cell_type": "code",
   "execution_count": 26,
   "id": "7f580dab",
   "metadata": {},
   "outputs": [
    {
     "data": {
      "text/plain": [
       "7"
      ]
     },
     "execution_count": 26,
     "metadata": {},
     "output_type": "execute_result"
    }
   ],
   "source": [
    "lesser_of_two_evens(2,7)"
   ]
  },
  {
   "cell_type": "code",
   "execution_count": 27,
   "id": "725183ca",
   "metadata": {},
   "outputs": [],
   "source": [
    "#simplifying using min and max \n",
    "\n",
    "def test(a,b):\n",
    "    \n",
    "    if a %2 == 0 and b %2 ==0:\n",
    "        return min(a,b)\n",
    "    \n",
    "    else:\n",
    "        return max(a,b)"
   ]
  },
  {
   "cell_type": "code",
   "execution_count": 28,
   "id": "6226f83f",
   "metadata": {},
   "outputs": [
    {
     "data": {
      "text/plain": [
       "2"
      ]
     },
     "execution_count": 28,
     "metadata": {},
     "output_type": "execute_result"
    }
   ],
   "source": [
    "test(2,4)"
   ]
  },
  {
   "cell_type": "code",
   "execution_count": 29,
   "id": "5ad37de5",
   "metadata": {},
   "outputs": [
    {
     "data": {
      "text/plain": [
       "7"
      ]
     },
     "execution_count": 29,
     "metadata": {},
     "output_type": "execute_result"
    }
   ],
   "source": [
    "test(3,7)"
   ]
  },
  {
   "cell_type": "code",
   "execution_count": 30,
   "id": "18016fdc",
   "metadata": {},
   "outputs": [],
   "source": [
    "#ANIMAL CRACKERS: Write a function takes a two-word string and returns True \n",
    "# if both words begin with same letter\n",
    "# animal_crackers('Levelheaded Llama') --> True\n",
    "# animal_crackers('Crazy Kangaroo') --> False"
   ]
  },
  {
   "cell_type": "code",
   "execution_count": 42,
   "id": "3df1dfd0",
   "metadata": {},
   "outputs": [],
   "source": [
    "def animal_crackers(text):\n",
    "    wordlist = text.split()\n",
    "    print (wordlist)\n",
    "    \n",
    "    first= wordlist[0]\n",
    "    second = wordlist[1]\n",
    "    \n",
    "    return first[0]==second[0]"
   ]
  },
  {
   "cell_type": "code",
   "execution_count": 43,
   "id": "5f52b9d3",
   "metadata": {},
   "outputs": [
    {
     "name": "stdout",
     "output_type": "stream",
     "text": [
      "['Levelheaded', 'Llama']\n"
     ]
    },
    {
     "data": {
      "text/plain": [
       "True"
      ]
     },
     "execution_count": 43,
     "metadata": {},
     "output_type": "execute_result"
    }
   ],
   "source": [
    "animal_crackers('Levelheaded Llama')"
   ]
  },
  {
   "cell_type": "code",
   "execution_count": 44,
   "id": "6262db81",
   "metadata": {},
   "outputs": [
    {
     "name": "stdout",
     "output_type": "stream",
     "text": [
      "['Crazy', 'Kangaroo']\n"
     ]
    },
    {
     "data": {
      "text/plain": [
       "False"
      ]
     },
     "execution_count": 44,
     "metadata": {},
     "output_type": "execute_result"
    }
   ],
   "source": [
    "animal_crackers('Crazy Kangaroo')"
   ]
  },
  {
   "cell_type": "code",
   "execution_count": 49,
   "id": "da65c46f",
   "metadata": {},
   "outputs": [],
   "source": [
    "#above version uses 2 calls, when you can combine: lowercase both words, split, and then index\n",
    "# simplifying, and using index of a split text\n",
    "\n",
    "def animal_crackers(text):\n",
    "    wordlist = text.lower().split()\n",
    "    \n",
    "    return wordlist[0][0]== wordlist[1][0]"
   ]
  },
  {
   "cell_type": "code",
   "execution_count": 50,
   "id": "01c620b4",
   "metadata": {},
   "outputs": [
    {
     "data": {
      "text/plain": [
       "True"
      ]
     },
     "execution_count": 50,
     "metadata": {},
     "output_type": "execute_result"
    }
   ],
   "source": [
    "animal_crackers('Levelheaded Llama')"
   ]
  },
  {
   "cell_type": "code",
   "execution_count": 53,
   "id": "1e3ef76a",
   "metadata": {},
   "outputs": [
    {
     "data": {
      "text/plain": [
       "True"
      ]
     },
     "execution_count": 53,
     "metadata": {},
     "output_type": "execute_result"
    }
   ],
   "source": [
    "animal_crackers('Crazy Kangaroo')"
   ]
  },
  {
   "cell_type": "code",
   "execution_count": null,
   "id": "9e7a652f",
   "metadata": {},
   "outputs": [],
   "source": []
  },
  {
   "cell_type": "code",
   "execution_count": null,
   "id": "7c25f973",
   "metadata": {},
   "outputs": [],
   "source": []
  },
  {
   "cell_type": "code",
   "execution_count": 54,
   "id": "40f973f1",
   "metadata": {},
   "outputs": [],
   "source": [
    "#MAKES TWENTY: Given two integers, return True if the sum of the integers is 20 or if one of the integers is 20. \n",
    "# If not, return False.\n",
    "# makes_twenty(20,10) --> True\n",
    "# makes_twenty(12,8) --> True\n",
    "# makes_twenty(2,3) --> False"
   ]
  },
  {
   "cell_type": "code",
   "execution_count": 74,
   "id": "91461544",
   "metadata": {},
   "outputs": [],
   "source": [
    "def makes_twenty(num1,num2):\n",
    "    \n",
    "    if num1+num2 == 20:\n",
    "        return True\n",
    "    elif num1 == 20:\n",
    "        return True\n",
    "    elif num2 == 20:\n",
    "        return True\n",
    "    else:\n",
    "        return False"
   ]
  },
  {
   "cell_type": "code",
   "execution_count": 79,
   "id": "ecc648ec",
   "metadata": {},
   "outputs": [
    {
     "data": {
      "text/plain": [
       "True"
      ]
     },
     "execution_count": 79,
     "metadata": {},
     "output_type": "execute_result"
    }
   ],
   "source": [
    "# Check\n",
    "makes_twenty(20,10)"
   ]
  },
  {
   "cell_type": "code",
   "execution_count": 76,
   "id": "93c85fbe",
   "metadata": {},
   "outputs": [
    {
     "data": {
      "text/plain": [
       "True"
      ]
     },
     "execution_count": 76,
     "metadata": {},
     "output_type": "execute_result"
    }
   ],
   "source": [
    "#Check\n",
    "makes_twenty(12,8)"
   ]
  },
  {
   "cell_type": "code",
   "execution_count": 77,
   "id": "66a7ab78",
   "metadata": {},
   "outputs": [
    {
     "data": {
      "text/plain": [
       "False"
      ]
     },
     "execution_count": 77,
     "metadata": {},
     "output_type": "execute_result"
    }
   ],
   "source": [
    "#Check\n",
    "makes_twenty(2,3)"
   ]
  },
  {
   "cell_type": "markdown",
   "id": "3a8d9783",
   "metadata": {},
   "source": []
  },
  {
   "cell_type": "code",
   "execution_count": 80,
   "id": "d98c85cf",
   "metadata": {},
   "outputs": [],
   "source": [
    "#simplify above code so all logic check is on one line:\n",
    "\n",
    "def makes_twenty(n1,n2):\n",
    "    \n",
    "    return n1+n2 ==20 or n1==20 or n2==20"
   ]
  },
  {
   "cell_type": "code",
   "execution_count": 81,
   "id": "3b430898",
   "metadata": {},
   "outputs": [
    {
     "data": {
      "text/plain": [
       "True"
      ]
     },
     "execution_count": 81,
     "metadata": {},
     "output_type": "execute_result"
    }
   ],
   "source": [
    "makes_twenty(20,10)"
   ]
  },
  {
   "cell_type": "code",
   "execution_count": 82,
   "id": "789a4d10",
   "metadata": {},
   "outputs": [
    {
     "data": {
      "text/plain": [
       "True"
      ]
     },
     "execution_count": 82,
     "metadata": {},
     "output_type": "execute_result"
    }
   ],
   "source": [
    "makes_twenty(10,10)"
   ]
  },
  {
   "cell_type": "code",
   "execution_count": 83,
   "id": "7e88b585",
   "metadata": {},
   "outputs": [
    {
     "data": {
      "text/plain": [
       "False"
      ]
     },
     "execution_count": 83,
     "metadata": {},
     "output_type": "execute_result"
    }
   ],
   "source": [
    "makes_twenty(11,5)"
   ]
  },
  {
   "cell_type": "code",
   "execution_count": null,
   "id": "82902153",
   "metadata": {},
   "outputs": [],
   "source": []
  },
  {
   "cell_type": "code",
   "execution_count": null,
   "id": "eae4b899",
   "metadata": {},
   "outputs": [],
   "source": []
  },
  {
   "cell_type": "code",
   "execution_count": 59,
   "id": "dce8cb7d",
   "metadata": {},
   "outputs": [],
   "source": [
    "#Level one: OLD MACDONALD: Write a function that capitalizes the first and fourth letters of a name\n",
    "\n",
    "def old_macdonald(name):\n",
    "    \n",
    "    first_let = name[0]\n",
    "    inbetween = name [1:3]\n",
    "    second_let = name [3]\n",
    "    rest = name[4:]\n",
    "    \n",
    "    return first_let.upper() + inbetween + second_let.upper() + rest\n",
    "   "
   ]
  },
  {
   "cell_type": "code",
   "execution_count": 60,
   "id": "0c60ddbd",
   "metadata": {},
   "outputs": [
    {
     "data": {
      "text/plain": [
       "'MacDonald'"
      ]
     },
     "execution_count": 60,
     "metadata": {},
     "output_type": "execute_result"
    }
   ],
   "source": [
    "#Check\n",
    "\n",
    "old_macdonald('macdonald')"
   ]
  },
  {
   "cell_type": "code",
   "execution_count": 63,
   "id": "c4ea0a7f",
   "metadata": {},
   "outputs": [],
   "source": [
    "# Simplifying using index method\n",
    "\n",
    "def old_macdonald(name):\n",
    "    \n",
    "    first_half = name[:3]\n",
    "    second_half = name[3:]\n",
    "    \n",
    "    return first_half.capitalize() + second_half.capitalize()"
   ]
  },
  {
   "cell_type": "code",
   "execution_count": 64,
   "id": "60e38c13",
   "metadata": {},
   "outputs": [
    {
     "data": {
      "text/plain": [
       "'MacDonald'"
      ]
     },
     "execution_count": 64,
     "metadata": {},
     "output_type": "execute_result"
    }
   ],
   "source": [
    "#Check\n",
    "\n",
    "old_macdonald('macdonald')"
   ]
  },
  {
   "cell_type": "code",
   "execution_count": null,
   "id": "adbf7fe2",
   "metadata": {},
   "outputs": [],
   "source": []
  }
 ],
 "metadata": {
  "kernelspec": {
   "display_name": "Python 3 (ipykernel)",
   "language": "python",
   "name": "python3"
  },
  "language_info": {
   "codemirror_mode": {
    "name": "ipython",
    "version": 3
   },
   "file_extension": ".py",
   "mimetype": "text/x-python",
   "name": "python",
   "nbconvert_exporter": "python",
   "pygments_lexer": "ipython3",
   "version": "3.9.13"
  }
 },
 "nbformat": 4,
 "nbformat_minor": 5
}
