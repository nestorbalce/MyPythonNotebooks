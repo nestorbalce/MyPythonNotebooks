{
 "cells": [
  {
   "cell_type": "code",
   "execution_count": 1,
   "id": "be914a31",
   "metadata": {},
   "outputs": [],
   "source": [
    "# notation: \n",
    "#    def name_of_function():   <--- use of snake casing, wc. means all lowercase with underscores\n",
    "#    there is a parenthesis - to pass the parameter or argument into the function\n",
    "#    and there is a colon - to indicated there will be indentation and code to follow \n",
    "#    use of ''' (triple quotes) for docstrings explain the function\n",
    "#\n",
    "# return function - different from print, does NOT have parenthesis so it 'saves' the variable\n",
    "# when the function is called, it assigns it to the parameters\n",
    "#\n",
    "#"
   ]
  },
  {
   "cell_type": "code",
   "execution_count": 16,
   "id": "1a4d62ba",
   "metadata": {},
   "outputs": [],
   "source": [
    "def say_hello():\n",
    "    print(\"Hello!\")"
   ]
  },
  {
   "cell_type": "code",
   "execution_count": 18,
   "id": "70ecd0da",
   "metadata": {},
   "outputs": [
    {
     "name": "stdout",
     "output_type": "stream",
     "text": [
      "Hello!\n"
     ]
    }
   ],
   "source": [
    "say_hello()"
   ]
  },
  {
   "cell_type": "code",
   "execution_count": 29,
   "id": "7bde2ca9",
   "metadata": {},
   "outputs": [],
   "source": [
    "def new_hello(name):\n",
    "    print (f'Hello {name}') "
   ]
  },
  {
   "cell_type": "code",
   "execution_count": 30,
   "id": "e608563b",
   "metadata": {},
   "outputs": [
    {
     "name": "stdout",
     "output_type": "stream",
     "text": [
      "Hello Jose\n"
     ]
    }
   ],
   "source": [
    "new_hello('Jose')"
   ]
  },
  {
   "cell_type": "code",
   "execution_count": 32,
   "id": "e669a790",
   "metadata": {},
   "outputs": [],
   "source": [
    "def say_hello(name='Default'):\n",
    "    print (f'Hello {name}')"
   ]
  },
  {
   "cell_type": "code",
   "execution_count": 33,
   "id": "bd741574",
   "metadata": {},
   "outputs": [
    {
     "name": "stdout",
     "output_type": "stream",
     "text": [
      "Hello Default\n"
     ]
    }
   ],
   "source": [
    "say_hello()"
   ]
  },
  {
   "cell_type": "code",
   "execution_count": 34,
   "id": "405e3200",
   "metadata": {},
   "outputs": [],
   "source": [
    "def add_num (num1, num2):\n",
    "    return num1 + num2"
   ]
  },
  {
   "cell_type": "code",
   "execution_count": 35,
   "id": "a480eba8",
   "metadata": {},
   "outputs": [
    {
     "data": {
      "text/plain": [
       "30"
      ]
     },
     "execution_count": 35,
     "metadata": {},
     "output_type": "execute_result"
    }
   ],
   "source": [
    "add_num (10,20)"
   ]
  },
  {
   "cell_type": "code",
   "execution_count": 36,
   "id": "1d87b14e",
   "metadata": {},
   "outputs": [],
   "source": [
    "result = add_num (10,20)"
   ]
  },
  {
   "cell_type": "code",
   "execution_count": 37,
   "id": "0ecc111d",
   "metadata": {},
   "outputs": [
    {
     "data": {
      "text/plain": [
       "30"
      ]
     },
     "execution_count": 37,
     "metadata": {},
     "output_type": "execute_result"
    }
   ],
   "source": [
    "result"
   ]
  },
  {
   "cell_type": "code",
   "execution_count": 38,
   "id": "7e66a6c8",
   "metadata": {},
   "outputs": [],
   "source": [
    "def print_result (a,b):\n",
    "    print (a+b)"
   ]
  },
  {
   "cell_type": "code",
   "execution_count": 39,
   "id": "a424e1e7",
   "metadata": {},
   "outputs": [],
   "source": [
    "def return_result (a,b):\n",
    "    return a+b"
   ]
  },
  {
   "cell_type": "code",
   "execution_count": 52,
   "id": "4b4ff918",
   "metadata": {
    "scrolled": true
   },
   "outputs": [
    {
     "data": {
      "text/plain": [
       "30"
      ]
     },
     "execution_count": 52,
     "metadata": {},
     "output_type": "execute_result"
    }
   ],
   "source": [
    "return_result (10,20)\n",
    "\n",
    "#this stores result"
   ]
  },
  {
   "cell_type": "raw",
   "id": "bc0c3e2c",
   "metadata": {},
   "source": []
  },
  {
   "cell_type": "code",
   "execution_count": 53,
   "id": "f3118d34",
   "metadata": {},
   "outputs": [
    {
     "name": "stdout",
     "output_type": "stream",
     "text": [
      "30\n"
     ]
    }
   ],
   "source": [
    "print_result(10,20)\n",
    "\n",
    "#this does not store result"
   ]
  },
  {
   "cell_type": "code",
   "execution_count": 55,
   "id": "a90549e8",
   "metadata": {},
   "outputs": [],
   "source": [
    "def myfunc(a,b):\n",
    "    print (a+b)\n",
    "    return a+b"
   ]
  },
  {
   "cell_type": "code",
   "execution_count": 56,
   "id": "5423963c",
   "metadata": {},
   "outputs": [
    {
     "name": "stdout",
     "output_type": "stream",
     "text": [
      "30\n"
     ]
    }
   ],
   "source": [
    "result = myfunc(10,20)"
   ]
  },
  {
   "cell_type": "code",
   "execution_count": 57,
   "id": "9dec76df",
   "metadata": {},
   "outputs": [
    {
     "data": {
      "text/plain": [
       "30"
      ]
     },
     "execution_count": 57,
     "metadata": {},
     "output_type": "execute_result"
    }
   ],
   "source": [
    "result"
   ]
  },
  {
   "cell_type": "code",
   "execution_count": 58,
   "id": "9888a658",
   "metadata": {},
   "outputs": [],
   "source": [
    "def sum_numbers (num1, num2):\n",
    "    return num1+num2"
   ]
  },
  {
   "cell_type": "code",
   "execution_count": 59,
   "id": "929536ff",
   "metadata": {},
   "outputs": [
    {
     "data": {
      "text/plain": [
       "30"
      ]
     },
     "execution_count": 59,
     "metadata": {},
     "output_type": "execute_result"
    }
   ],
   "source": [
    "sum_numbers(10,20)"
   ]
  },
  {
   "cell_type": "code",
   "execution_count": 60,
   "id": "e4e4693f",
   "metadata": {},
   "outputs": [
    {
     "data": {
      "text/plain": [
       "'1020'"
      ]
     },
     "execution_count": 60,
     "metadata": {},
     "output_type": "execute_result"
    }
   ],
   "source": [
    "sum_numbers('10','20')"
   ]
  },
  {
   "cell_type": "code",
   "execution_count": null,
   "id": "508e87a1",
   "metadata": {},
   "outputs": [],
   "source": []
  }
 ],
 "metadata": {
  "kernelspec": {
   "display_name": "Python 3 (ipykernel)",
   "language": "python",
   "name": "python3"
  },
  "language_info": {
   "codemirror_mode": {
    "name": "ipython",
    "version": 3
   },
   "file_extension": ".py",
   "mimetype": "text/x-python",
   "name": "python",
   "nbconvert_exporter": "python",
   "pygments_lexer": "ipython3",
   "version": "3.9.13"
  }
 },
 "nbformat": 4,
 "nbformat_minor": 5
}
