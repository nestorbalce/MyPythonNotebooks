{
 "cells": [
  {
   "cell_type": "code",
   "execution_count": 3,
   "id": "b6442aed",
   "metadata": {},
   "outputs": [],
   "source": [
    "def myfunc(a,b):\n",
    "    #returns 5% of the sum of a and b\n",
    "    return sum((a,b)) * 0.05"
   ]
  },
  {
   "cell_type": "code",
   "execution_count": 4,
   "id": "d631c888",
   "metadata": {},
   "outputs": [
    {
     "data": {
      "text/plain": [
       "5.0"
      ]
     },
     "execution_count": 4,
     "metadata": {},
     "output_type": "execute_result"
    }
   ],
   "source": [
    "myfunc (40,60)"
   ]
  },
  {
   "cell_type": "code",
   "execution_count": 15,
   "id": "dffbbdc6",
   "metadata": {},
   "outputs": [],
   "source": [
    "def myfunc(*args):\n",
    "    return sum(args) *0.05"
   ]
  },
  {
   "cell_type": "code",
   "execution_count": 16,
   "id": "99ced194",
   "metadata": {},
   "outputs": [
    {
     "data": {
      "text/plain": [
       "17.5"
      ]
     },
     "execution_count": 16,
     "metadata": {},
     "output_type": "execute_result"
    }
   ],
   "source": [
    "myfunc (40,60,100,100,50)"
   ]
  },
  {
   "cell_type": "code",
   "execution_count": 11,
   "id": "5d3733a5",
   "metadata": {},
   "outputs": [],
   "source": [
    "def myfunc(*args):\n",
    "    for item in args:\n",
    "        print (item)"
   ]
  },
  {
   "cell_type": "code",
   "execution_count": 12,
   "id": "ffa33070",
   "metadata": {},
   "outputs": [
    {
     "name": "stdout",
     "output_type": "stream",
     "text": [
      "40\n",
      "60\n",
      "100\n",
      "100\n",
      "350\n"
     ]
    }
   ],
   "source": [
    "myfunc (40, 60, 100, 100, 350)"
   ]
  },
  {
   "cell_type": "code",
   "execution_count": 35,
   "id": "9b356960",
   "metadata": {},
   "outputs": [],
   "source": [
    "def myfunc(**kwargs):\n",
    "    print (kwargs)\n",
    "    if 'fruit' in kwargs:\n",
    "        print('My fruit of choice is {}'.format(kwargs['fruit']))\n",
    "    else:\n",
    "        print('I did not find any fruit here!')"
   ]
  },
  {
   "cell_type": "code",
   "execution_count": 36,
   "id": "31d7f590",
   "metadata": {},
   "outputs": [
    {
     "name": "stdout",
     "output_type": "stream",
     "text": [
      "{'fruit': 'banana', 'veggie': 'carrot'}\n",
      "My fruit of choice is banana\n"
     ]
    }
   ],
   "source": [
    "myfunc(fruit = 'banana', veggie = \"carrot\")"
   ]
  },
  {
   "cell_type": "code",
   "execution_count": 37,
   "id": "7cb44384",
   "metadata": {},
   "outputs": [],
   "source": [
    "def myfunc(*args, **kwargs):\n",
    "    print (args)\n",
    "    print (kwargs)\n",
    "    print ('I would like {} {}'.format(args[0],kwargs['food']))"
   ]
  },
  {
   "cell_type": "code",
   "execution_count": 39,
   "id": "90f2dc90",
   "metadata": {},
   "outputs": [
    {
     "name": "stdout",
     "output_type": "stream",
     "text": [
      "(10, 20, 30)\n",
      "{'fruit': 'orange', 'food': 'eggs', 'animal': 'fish'}\n",
      "I would like 10 eggs\n"
     ]
    }
   ],
   "source": [
    "myfunc(10,20,30,fruit='orange', food='eggs', animal='fish')"
   ]
  },
  {
   "cell_type": "code",
   "execution_count": 1,
   "id": "abc9fe28",
   "metadata": {},
   "outputs": [],
   "source": [
    "#test number 10 - \n",
    "def myfunc(x):\n",
    "    out = []\n",
    "    for i in range(len(x)):\n",
    "        if i%2 == 0:\n",
    "            out.append(x[i].lower())\n",
    "        else:\n",
    "            out.append(x[i].upper())\n",
    "    return ''.join(out)"
   ]
  },
  {
   "cell_type": "code",
   "execution_count": 3,
   "id": "3f675be7",
   "metadata": {},
   "outputs": [
    {
     "data": {
      "text/plain": [
       "'lAnGuAgE'"
      ]
     },
     "execution_count": 3,
     "metadata": {},
     "output_type": "execute_result"
    }
   ],
   "source": [
    "myfunc('Language')"
   ]
  },
  {
   "cell_type": "code",
   "execution_count": null,
   "id": "6a2fa7a8",
   "metadata": {},
   "outputs": [],
   "source": []
  }
 ],
 "metadata": {
  "kernelspec": {
   "display_name": "Python 3 (ipykernel)",
   "language": "python",
   "name": "python3"
  },
  "language_info": {
   "codemirror_mode": {
    "name": "ipython",
    "version": 3
   },
   "file_extension": ".py",
   "mimetype": "text/x-python",
   "name": "python",
   "nbconvert_exporter": "python",
   "pygments_lexer": "ipython3",
   "version": "3.9.13"
  }
 },
 "nbformat": 4,
 "nbformat_minor": 5
}
