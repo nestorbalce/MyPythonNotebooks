{
 "cells": [
  {
   "cell_type": "code",
   "execution_count": 12,
   "id": "af093202",
   "metadata": {},
   "outputs": [
    {
     "name": "stdout",
     "output_type": "stream",
     "text": [
      "FEED ME SEYMOUR!\n"
     ]
    }
   ],
   "source": [
    "hungry = True\n",
    "if hungry:\n",
    "    print('FEED ME SEYMOUR!')\n",
    "else:\n",
    "    print('Im not hungry')"
   ]
  },
  {
   "cell_type": "code",
   "execution_count": 14,
   "id": "fe4b96b8",
   "metadata": {},
   "outputs": [
    {
     "data": {
      "text/plain": [
       "bool"
      ]
     },
     "execution_count": 14,
     "metadata": {},
     "output_type": "execute_result"
    }
   ],
   "source": [
    "type (hungry)"
   ]
  },
  {
   "cell_type": "code",
   "execution_count": 21,
   "id": "adac457a",
   "metadata": {},
   "outputs": [
    {
     "name": "stdout",
     "output_type": "stream",
     "text": [
      "I am at the Bakeshop!\n"
     ]
    }
   ],
   "source": [
    "loc = 'Bakeshop'\n",
    "\n",
    "if loc == 'Auto Shop':\n",
    "    print(\"I'm nowhere near the bank!!\")\n",
    "elif loc == 'Bakeshop':\n",
    "    print(\"I am at the Bakeshop!\")\n",
    "else:\n",
    "    print(\"I'm inside the bank!\")"
   ]
  },
  {
   "cell_type": "code",
   "execution_count": 28,
   "id": "f1da0dff",
   "metadata": {},
   "outputs": [
    {
     "name": "stdout",
     "output_type": "stream",
     "text": [
      "Hello... What is your name?\n"
     ]
    }
   ],
   "source": [
    "name = 'George'\n",
    "\n",
    "if name == 'Frankie':\n",
    "    print('Hello Frankie!')\n",
    "elif name == 'Sammy':\n",
    "    print('Hello Sammy')\n",
    "else:\n",
    "    print('Hello... What is your name?')\n"
   ]
  },
  {
   "cell_type": "code",
   "execution_count": null,
   "id": "593a0286",
   "metadata": {},
   "outputs": [],
   "source": []
  }
 ],
 "metadata": {
  "kernelspec": {
   "display_name": "Python 3 (ipykernel)",
   "language": "python",
   "name": "python3"
  },
  "language_info": {
   "codemirror_mode": {
    "name": "ipython",
    "version": 3
   },
   "file_extension": ".py",
   "mimetype": "text/x-python",
   "name": "python",
   "nbconvert_exporter": "python",
   "pygments_lexer": "ipython3",
   "version": "3.9.13"
  }
 },
 "nbformat": 4,
 "nbformat_minor": 5
}
