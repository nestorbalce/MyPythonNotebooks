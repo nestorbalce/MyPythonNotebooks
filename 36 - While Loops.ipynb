{
 "cells": [
  {
   "cell_type": "code",
   "execution_count": 1,
   "id": "bcbd5b78",
   "metadata": {},
   "outputs": [],
   "source": [
    "# while some_boolean_conidtion:\n",
    "#      do something\n",
    "# else:\n",
    "#      doe something different"
   ]
  },
  {
   "cell_type": "code",
   "execution_count": 6,
   "id": "e6d8db0b",
   "metadata": {},
   "outputs": [
    {
     "name": "stdout",
     "output_type": "stream",
     "text": [
      "The current value of x is 0\n",
      "The current value of x is 1\n",
      "The current value of x is 2\n",
      "The current value of x is 3\n",
      "The current value of x is 4\n",
      "X is not less than 5\n"
     ]
    }
   ],
   "source": [
    "x = 0\n",
    "\n",
    "while x < 5:\n",
    "    print (f'The current value of x is {x}')\n",
    "    x += 1\n",
    "else:\n",
    "    print (\"X is not less than 5\")"
   ]
  },
  {
   "cell_type": "code",
   "execution_count": 7,
   "id": "a65021d9",
   "metadata": {},
   "outputs": [],
   "source": [
    "# break:  breaks out of the closest enclosing loop\n",
    "# continue: goes to the top of the closest enclosing loop\n",
    "# pass: does nothing at all"
   ]
  },
  {
   "cell_type": "code",
   "execution_count": 10,
   "id": "9b22e66e",
   "metadata": {},
   "outputs": [
    {
     "name": "stdout",
     "output_type": "stream",
     "text": [
      "end of my script\n"
     ]
    }
   ],
   "source": [
    "x = [1,2,3]\n",
    "\n",
    "for item in x:\n",
    "    #comment\n",
    "    pass\n",
    "\n",
    "print ('end of my script')"
   ]
  },
  {
   "cell_type": "code",
   "execution_count": 11,
   "id": "2a42e06a",
   "metadata": {},
   "outputs": [
    {
     "name": "stdout",
     "output_type": "stream",
     "text": [
      "S\n",
      "a\n",
      "m\n",
      "m\n",
      "y\n"
     ]
    }
   ],
   "source": [
    "mystring = 'Sammy'\n",
    "\n",
    "for letter in mystring:\n",
    "    print (letter)"
   ]
  },
  {
   "cell_type": "code",
   "execution_count": 15,
   "id": "14575376",
   "metadata": {},
   "outputs": [
    {
     "name": "stdout",
     "output_type": "stream",
     "text": [
      "S\n",
      "m\n",
      "m\n",
      "y\n"
     ]
    }
   ],
   "source": [
    "for letter in mystring:\n",
    "    if letter == 'a':\n",
    "        continue\n",
    "    print (letter)"
   ]
  },
  {
   "cell_type": "code",
   "execution_count": 16,
   "id": "a14f5a91",
   "metadata": {},
   "outputs": [
    {
     "name": "stdout",
     "output_type": "stream",
     "text": [
      "S\n"
     ]
    }
   ],
   "source": [
    "for letter in mystring:\n",
    "    if letter == 'a':\n",
    "        break\n",
    "    print (letter)"
   ]
  },
  {
   "cell_type": "code",
   "execution_count": 19,
   "id": "0d9a7dd8",
   "metadata": {},
   "outputs": [
    {
     "name": "stdout",
     "output_type": "stream",
     "text": [
      "0\n",
      "1\n",
      "2\n",
      "3\n"
     ]
    }
   ],
   "source": [
    "x = 0\n",
    "\n",
    "while x < 5:\n",
    "    if x == 4:\n",
    "        break\n",
    "    print (x)\n",
    "    x+=1"
   ]
  },
  {
   "cell_type": "code",
   "execution_count": null,
   "id": "3d72a158",
   "metadata": {},
   "outputs": [],
   "source": []
  }
 ],
 "metadata": {
  "kernelspec": {
   "display_name": "Python 3 (ipykernel)",
   "language": "python",
   "name": "python3"
  },
  "language_info": {
   "codemirror_mode": {
    "name": "ipython",
    "version": 3
   },
   "file_extension": ".py",
   "mimetype": "text/x-python",
   "name": "python",
   "nbconvert_exporter": "python",
   "pygments_lexer": "ipython3",
   "version": "3.9.13"
  }
 },
 "nbformat": 4,
 "nbformat_minor": 5
}
