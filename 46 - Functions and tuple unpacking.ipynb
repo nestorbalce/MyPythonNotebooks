{
 "cells": [
  {
   "cell_type": "code",
   "execution_count": 2,
   "id": "3c9eaf80",
   "metadata": {},
   "outputs": [],
   "source": [
    "#tuple unpacking using \"for\"\n",
    "\n",
    "stock_prices = [('APPL', 200), ('GOOG', 400), ('MSFT', 200)]"
   ]
  },
  {
   "cell_type": "code",
   "execution_count": 3,
   "id": "0a441030",
   "metadata": {},
   "outputs": [
    {
     "name": "stdout",
     "output_type": "stream",
     "text": [
      "('APPL', 200)\n",
      "('GOOG', 400)\n",
      "('MSFT', 200)\n"
     ]
    }
   ],
   "source": [
    "for item in stock_prices:\n",
    "    print (item)"
   ]
  },
  {
   "cell_type": "code",
   "execution_count": 5,
   "id": "8b54e8cf",
   "metadata": {},
   "outputs": [
    {
     "name": "stdout",
     "output_type": "stream",
     "text": [
      "APPL\n",
      "GOOG\n",
      "MSFT\n"
     ]
    }
   ],
   "source": [
    "for ticker,price in stock_prices: \n",
    "    print (ticker)"
   ]
  },
  {
   "cell_type": "code",
   "execution_count": 6,
   "id": "281c34d0",
   "metadata": {},
   "outputs": [
    {
     "name": "stdout",
     "output_type": "stream",
     "text": [
      "220.0\n",
      "440.0\n",
      "220.0\n"
     ]
    }
   ],
   "source": [
    "for ticker,price in stock_prices: \n",
    "    print (price +(price*0.1))"
   ]
  },
  {
   "cell_type": "code",
   "execution_count": 14,
   "id": "bdad4dca",
   "metadata": {},
   "outputs": [],
   "source": [
    "#unpacking tuples with functions\n",
    "# we want to see the employee of the year, the one who has the most hours worked\n",
    "\n",
    "work_hours = [('Abby', 500), ('Billy', 1000), ('Cassie', 800)]"
   ]
  },
  {
   "cell_type": "code",
   "execution_count": 10,
   "id": "d5620b55",
   "metadata": {},
   "outputs": [],
   "source": [
    "#create a function that will publish the top employee and # of hours.\n",
    "\n",
    "def employee_check(work_hours):\n",
    "    current_max = 0\n",
    "    employee_of_month = ''\n",
    "    \n",
    "    for employee, hours in work_hours:\n",
    "        if hours > current_max:\n",
    "            current_Max = hours\n",
    "            employee_of_month = employee\n",
    "        else:\n",
    "            pass\n",
    "         \n",
    "    #Return employee_of_month, and number of hours\n",
    "    return (employee_of_month, hours)"
   ]
  },
  {
   "cell_type": "code",
   "execution_count": 15,
   "id": "da69de62",
   "metadata": {},
   "outputs": [
    {
     "data": {
      "text/plain": [
       "('Cassie', 800)"
      ]
     },
     "execution_count": 15,
     "metadata": {},
     "output_type": "execute_result"
    }
   ],
   "source": [
    "employee_check(work_hours)"
   ]
  },
  {
   "cell_type": "code",
   "execution_count": 16,
   "id": "c6ad70d2",
   "metadata": {},
   "outputs": [],
   "source": [
    "result = employee_check(work_hours)"
   ]
  },
  {
   "cell_type": "code",
   "execution_count": 17,
   "id": "9a767bc3",
   "metadata": {},
   "outputs": [
    {
     "data": {
      "text/plain": [
       "('Cassie', 800)"
      ]
     },
     "execution_count": 17,
     "metadata": {},
     "output_type": "execute_result"
    }
   ],
   "source": [
    "result"
   ]
  },
  {
   "cell_type": "code",
   "execution_count": null,
   "id": "cd00d779",
   "metadata": {},
   "outputs": [],
   "source": []
  }
 ],
 "metadata": {
  "kernelspec": {
   "display_name": "Python 3 (ipykernel)",
   "language": "python",
   "name": "python3"
  },
  "language_info": {
   "codemirror_mode": {
    "name": "ipython",
    "version": 3
   },
   "file_extension": ".py",
   "mimetype": "text/x-python",
   "name": "python",
   "nbconvert_exporter": "python",
   "pygments_lexer": "ipython3",
   "version": "3.9.13"
  }
 },
 "nbformat": 4,
 "nbformat_minor": 5
}
