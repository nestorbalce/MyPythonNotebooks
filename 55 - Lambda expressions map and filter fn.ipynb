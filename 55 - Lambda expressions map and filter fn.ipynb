{
 "cells": [
  {
   "cell_type": "code",
   "execution_count": 1,
   "id": "82936583",
   "metadata": {},
   "outputs": [],
   "source": [
    "# Using maps - create function first\n",
    "\n",
    "def square(num):\n",
    "    return num**2"
   ]
  },
  {
   "cell_type": "code",
   "execution_count": 2,
   "id": "16acdc5f",
   "metadata": {},
   "outputs": [],
   "source": [
    "my_nums = [1,2,3,4,5]"
   ]
  },
  {
   "cell_type": "code",
   "execution_count": 3,
   "id": "6812348a",
   "metadata": {},
   "outputs": [
    {
     "data": {
      "text/plain": [
       "<map at 0x7f8ea92f55b0>"
      ]
     },
     "execution_count": 3,
     "metadata": {},
     "output_type": "execute_result"
    }
   ],
   "source": [
    "# use map - take the function, and apply to all items on the list\n",
    "# note - function does not include parenthesis because we dont want to execute - map will execute for us\n",
    "\n",
    "map(square,my_nums)\n",
    "\n",
    "#result is not useful, since it is stored on physical memory space - see below"
   ]
  },
  {
   "cell_type": "code",
   "execution_count": 5,
   "id": "8e01d26c",
   "metadata": {},
   "outputs": [
    {
     "name": "stdout",
     "output_type": "stream",
     "text": [
      "1\n",
      "4\n",
      "9\n",
      "16\n",
      "25\n"
     ]
    }
   ],
   "source": [
    "#to make it more useful, use a for loop and print out the items.\n",
    "\n",
    "for item in map(square,my_nums):\n",
    "    print (item)"
   ]
  },
  {
   "cell_type": "code",
   "execution_count": 6,
   "id": "e7caf89a",
   "metadata": {},
   "outputs": [
    {
     "data": {
      "text/plain": [
       "[1, 4, 9, 16, 25]"
      ]
     },
     "execution_count": 6,
     "metadata": {},
     "output_type": "execute_result"
    }
   ],
   "source": [
    "# you can also call the list back\n",
    "\n",
    "list(map(square,my_nums))"
   ]
  },
  {
   "cell_type": "code",
   "execution_count": 7,
   "id": "da6ba5d8",
   "metadata": {},
   "outputs": [],
   "source": [
    "# creating a more complex function and use map\n",
    "# note - function does not include parenthesis because we dont want to execute - map will execute for us\n",
    "\n",
    "def splicer(mystring):\n",
    "    if len(mystring)%2 == 0:\n",
    "        #print even if the number of length of the letters are even\n",
    "        return 'EVEN'\n",
    "    else:\n",
    "        #just return the first letter of the string\n",
    "        return mystring[0]"
   ]
  },
  {
   "cell_type": "code",
   "execution_count": 8,
   "id": "40a6b7c3",
   "metadata": {},
   "outputs": [],
   "source": [
    "names = ['Andy', 'Eve', 'Sally']"
   ]
  },
  {
   "cell_type": "code",
   "execution_count": 10,
   "id": "ca5356a9",
   "metadata": {},
   "outputs": [
    {
     "data": {
      "text/plain": [
       "['EVEN', 'E', 'S']"
      ]
     },
     "execution_count": 10,
     "metadata": {},
     "output_type": "execute_result"
    }
   ],
   "source": [
    "list(map(splicer,names))"
   ]
  },
  {
   "cell_type": "code",
   "execution_count": 4,
   "id": "8cb450e1",
   "metadata": {},
   "outputs": [],
   "source": [
    "# using the function \"filter\" - this applies the defined function to each item on a list\n",
    "# test - check if items on list are even numbers. define your function first. then create list. \n",
    "\n",
    "def check_even(nums):\n",
    "    return nums%2 == 0"
   ]
  },
  {
   "cell_type": "code",
   "execution_count": 5,
   "id": "8b0d2060",
   "metadata": {},
   "outputs": [],
   "source": [
    "mynums = [1,2,3,4,5,6]"
   ]
  },
  {
   "cell_type": "code",
   "execution_count": 11,
   "id": "458060a8",
   "metadata": {},
   "outputs": [
    {
     "data": {
      "text/plain": [
       "[2, 4, 6]"
      ]
     },
     "execution_count": 11,
     "metadata": {},
     "output_type": "execute_result"
    }
   ],
   "source": [
    "#pass on to a list\n",
    "\n",
    "list(filter(check_even,mynums))"
   ]
  },
  {
   "cell_type": "code",
   "execution_count": 12,
   "id": "a08414a0",
   "metadata": {},
   "outputs": [
    {
     "name": "stdout",
     "output_type": "stream",
     "text": [
      "2\n",
      "4\n",
      "6\n"
     ]
    }
   ],
   "source": [
    "# ... or iterate through the items on a list\n",
    "\n",
    "for n in filter(check_even,mynums):\n",
    "    print (n)"
   ]
  },
  {
   "cell_type": "code",
   "execution_count": 13,
   "id": "284936eb",
   "metadata": {},
   "outputs": [],
   "source": [
    "#origin of Lambda - code before converting to a lambda\n",
    "\n",
    "def square(num):\n",
    "    result = num **2\n",
    "    return result"
   ]
  },
  {
   "cell_type": "code",
   "execution_count": 14,
   "id": "9668dbd7",
   "metadata": {},
   "outputs": [
    {
     "data": {
      "text/plain": [
       "25"
      ]
     },
     "execution_count": 14,
     "metadata": {},
     "output_type": "execute_result"
    }
   ],
   "source": [
    "square(5)"
   ]
  },
  {
   "cell_type": "code",
   "execution_count": 17,
   "id": "b4e39c4b",
   "metadata": {},
   "outputs": [],
   "source": [
    "#first conversion - \n",
    "def square(num):\n",
    "    return num **2"
   ]
  },
  {
   "cell_type": "code",
   "execution_count": 18,
   "id": "ca85a9df",
   "metadata": {},
   "outputs": [
    {
     "data": {
      "text/plain": [
       "25"
      ]
     },
     "execution_count": 18,
     "metadata": {},
     "output_type": "execute_result"
    }
   ],
   "source": [
    "square(5)"
   ]
  },
  {
   "cell_type": "code",
   "execution_count": 21,
   "id": "8096c4a6",
   "metadata": {},
   "outputs": [],
   "source": [
    "# 2nd conversion - putting it all on one line\n",
    "\n",
    "def square(num): return num **2"
   ]
  },
  {
   "cell_type": "code",
   "execution_count": 22,
   "id": "52bad272",
   "metadata": {},
   "outputs": [
    {
     "data": {
      "text/plain": [
       "25"
      ]
     },
     "execution_count": 22,
     "metadata": {},
     "output_type": "execute_result"
    }
   ],
   "source": [
    "square(5)"
   ]
  },
  {
   "cell_type": "code",
   "execution_count": 28,
   "id": "512a586e",
   "metadata": {},
   "outputs": [],
   "source": [
    "#3rd conversion - lambda is a func you only use once, so it is an anonymous func.\n",
    "# simplify using 'lambda', assume 'return' after the colon, and place on a list\n",
    "\n",
    "square = lambda num: num **2\n",
    "# tecnically, you don't name the func, but use jointly with map and filter. "
   ]
  },
  {
   "cell_type": "code",
   "execution_count": 29,
   "id": "59cafc01",
   "metadata": {},
   "outputs": [
    {
     "data": {
      "text/plain": [
       "25"
      ]
     },
     "execution_count": 29,
     "metadata": {},
     "output_type": "execute_result"
    }
   ],
   "source": [
    "square (5)"
   ]
  },
  {
   "cell_type": "code",
   "execution_count": 32,
   "id": "cc30afe3",
   "metadata": {},
   "outputs": [
    {
     "data": {
      "text/plain": [
       "[1, 4, 9, 16, 25, 36]"
      ]
     },
     "execution_count": 32,
     "metadata": {},
     "output_type": "execute_result"
    }
   ],
   "source": [
    "#using the map func above, and applying on mynums above \n",
    "\n",
    "list(map(lambda num:num **2, mynums))"
   ]
  },
  {
   "cell_type": "code",
   "execution_count": 35,
   "id": "ab49532c",
   "metadata": {},
   "outputs": [
    {
     "data": {
      "text/plain": [
       "[2, 4, 6]"
      ]
     },
     "execution_count": 35,
     "metadata": {},
     "output_type": "execute_result"
    }
   ],
   "source": [
    "#using the filter func above, and applying on a list\n",
    "\n",
    "list(filter(lambda nums:nums%2 == 0, mynums))"
   ]
  },
  {
   "cell_type": "code",
   "execution_count": 37,
   "id": "1dbe80af",
   "metadata": {},
   "outputs": [],
   "source": [
    "names = ['Andy', 'Eve', 'Sally']"
   ]
  },
  {
   "cell_type": "code",
   "execution_count": 39,
   "id": "3a9d36cc",
   "metadata": {},
   "outputs": [
    {
     "data": {
      "text/plain": [
       "['A', 'E', 'S']"
      ]
     },
     "execution_count": 39,
     "metadata": {},
     "output_type": "execute_result"
    }
   ],
   "source": [
    "# slice and get only the first letter of every item on that list\n",
    "\n",
    "list(map(lambda x:x[0], names))"
   ]
  },
  {
   "cell_type": "code",
   "execution_count": 41,
   "id": "5120498e",
   "metadata": {},
   "outputs": [
    {
     "data": {
      "text/plain": [
       "['ydnA', 'evE', 'yllaS']"
      ]
     },
     "execution_count": 41,
     "metadata": {},
     "output_type": "execute_result"
    }
   ],
   "source": [
    "# reverse letters of all items on 'names'\n",
    "\n",
    "list(map(lambda x:x[::-1], names))"
   ]
  },
  {
   "cell_type": "code",
   "execution_count": null,
   "id": "cd2f9c03",
   "metadata": {},
   "outputs": [],
   "source": []
  }
 ],
 "metadata": {
  "kernelspec": {
   "display_name": "Python 3 (ipykernel)",
   "language": "python",
   "name": "python3"
  },
  "language_info": {
   "codemirror_mode": {
    "name": "ipython",
    "version": 3
   },
   "file_extension": ".py",
   "mimetype": "text/x-python",
   "name": "python",
   "nbconvert_exporter": "python",
   "pygments_lexer": "ipython3",
   "version": "3.9.13"
  }
 },
 "nbformat": 4,
 "nbformat_minor": 5
}
