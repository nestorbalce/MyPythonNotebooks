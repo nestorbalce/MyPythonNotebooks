{
 "cells": [
  {
   "cell_type": "code",
   "execution_count": 1,
   "id": "988c45a2",
   "metadata": {},
   "outputs": [],
   "source": [
    "#shuffle function coming from the random module\n",
    "\n",
    "example =[1,2,3,4,5,6,7]"
   ]
  },
  {
   "cell_type": "code",
   "execution_count": 2,
   "id": "a73ac577",
   "metadata": {},
   "outputs": [],
   "source": [
    "from random import shuffle"
   ]
  },
  {
   "cell_type": "code",
   "execution_count": 3,
   "id": "dd82b2ef",
   "metadata": {},
   "outputs": [],
   "source": [
    "shuffle (example)"
   ]
  },
  {
   "cell_type": "code",
   "execution_count": 4,
   "id": "a2db9664",
   "metadata": {},
   "outputs": [
    {
     "data": {
      "text/plain": [
       "[1, 3, 5, 7, 4, 2, 6]"
      ]
     },
     "execution_count": 4,
     "metadata": {},
     "output_type": "execute_result"
    }
   ],
   "source": [
    "example"
   ]
  },
  {
   "cell_type": "code",
   "execution_count": 5,
   "id": "eaf0da9d",
   "metadata": {},
   "outputs": [],
   "source": [
    "#lets create our own function using the shuffle module, then create the Monte"
   ]
  },
  {
   "cell_type": "code",
   "execution_count": 7,
   "id": "348ac342",
   "metadata": {},
   "outputs": [],
   "source": [
    "def shuffle_list(mylist):\n",
    "    shuffle (mylist)\n",
    "    return mylist"
   ]
  },
  {
   "cell_type": "code",
   "execution_count": 8,
   "id": "7733e15b",
   "metadata": {},
   "outputs": [],
   "source": [
    "result = shuffle_list(example)"
   ]
  },
  {
   "cell_type": "code",
   "execution_count": 34,
   "id": "d1db2bee",
   "metadata": {},
   "outputs": [
    {
     "data": {
      "text/plain": [
       "[5, 6, 2, 1, 3, 4, 7]"
      ]
     },
     "execution_count": 34,
     "metadata": {},
     "output_type": "execute_result"
    }
   ],
   "source": [
    "result"
   ]
  },
  {
   "cell_type": "code",
   "execution_count": 14,
   "id": "340f4c86",
   "metadata": {},
   "outputs": [],
   "source": [
    "my_list=[' ','o',' ']"
   ]
  },
  {
   "cell_type": "code",
   "execution_count": 17,
   "id": "d5429244",
   "metadata": {},
   "outputs": [
    {
     "data": {
      "text/plain": [
       "[' ', ' ', 'o']"
      ]
     },
     "execution_count": 17,
     "metadata": {},
     "output_type": "execute_result"
    }
   ],
   "source": [
    "shuffle_list(my_list)"
   ]
  },
  {
   "cell_type": "code",
   "execution_count": 39,
   "id": "1a001f25",
   "metadata": {},
   "outputs": [],
   "source": [
    "def player_guess():\n",
    "    \n",
    "    guess= ' '\n",
    "    \n",
    "    while guess not in ['0', '1', '2']:\n",
    "        guess = input (\"Pick a number, 0, 1, or 2  ->\")\n",
    "        #note - input ALWAYS returns a string, so you need to convert to integer for this code\n",
    "    \n",
    "    return int(guess)"
   ]
  },
  {
   "cell_type": "code",
   "execution_count": 40,
   "id": "5a156190",
   "metadata": {},
   "outputs": [
    {
     "name": "stdout",
     "output_type": "stream",
     "text": [
      "Pick a number, 0, 1, or 2  ->1\n"
     ]
    },
    {
     "data": {
      "text/plain": [
       "1"
      ]
     },
     "execution_count": 40,
     "metadata": {},
     "output_type": "execute_result"
    }
   ],
   "source": [
    "player_guess()"
   ]
  },
  {
   "cell_type": "code",
   "execution_count": 41,
   "id": "626a281d",
   "metadata": {},
   "outputs": [
    {
     "name": "stdout",
     "output_type": "stream",
     "text": [
      "Pick a number, 0, 1, or 2  ->1\n"
     ]
    }
   ],
   "source": [
    "myindex = player_guess()"
   ]
  },
  {
   "cell_type": "code",
   "execution_count": 42,
   "id": "52ebf486",
   "metadata": {},
   "outputs": [
    {
     "data": {
      "text/plain": [
       "1"
      ]
     },
     "execution_count": 42,
     "metadata": {},
     "output_type": "execute_result"
    }
   ],
   "source": [
    "myindex"
   ]
  },
  {
   "cell_type": "code",
   "execution_count": 43,
   "id": "36709017",
   "metadata": {},
   "outputs": [],
   "source": [
    "#interacting the functions\n",
    "\n",
    "def check_guess(my_list,guess):\n",
    "    if my_list[guess] == 'o':\n",
    "        print (\"Correct\")\n",
    "    else:\n",
    "        print (\"Wrong\")\n",
    "        print (my_list)"
   ]
  },
  {
   "cell_type": "code",
   "execution_count": 44,
   "id": "78d15345",
   "metadata": {},
   "outputs": [
    {
     "name": "stdout",
     "output_type": "stream",
     "text": [
      "Pick a number, 0, 1, or 2  ->2\n",
      "Wrong\n",
      "['o', ' ', ' ']\n"
     ]
    }
   ],
   "source": [
    "#initial list\n",
    "my_list=[' ','o',' ']\n",
    "\n",
    "#shuffle list\n",
    "mixedup_list = shuffle_list(my_list)\n",
    "\n",
    "#user guess\n",
    "guess = player_guess()\n",
    "\n",
    "#check guess\n",
    "check_guess(mixedup_list, guess)\n"
   ]
  },
  {
   "cell_type": "code",
   "execution_count": null,
   "id": "3afdc763",
   "metadata": {},
   "outputs": [],
   "source": []
  }
 ],
 "metadata": {
  "kernelspec": {
   "display_name": "Python 3 (ipykernel)",
   "language": "python",
   "name": "python3"
  },
  "language_info": {
   "codemirror_mode": {
    "name": "ipython",
    "version": 3
   },
   "file_extension": ".py",
   "mimetype": "text/x-python",
   "name": "python",
   "nbconvert_exporter": "python",
   "pygments_lexer": "ipython3",
   "version": "3.9.13"
  }
 },
 "nbformat": 4,
 "nbformat_minor": 5
}
